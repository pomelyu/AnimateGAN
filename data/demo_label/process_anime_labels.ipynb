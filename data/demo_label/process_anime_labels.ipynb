{
 "cells": [
  {
   "cell_type": "code",
   "execution_count": 1,
   "metadata": {},
   "outputs": [],
   "source": [
    "import numpy as np\n",
    "import pandas as pd\n",
    "from pathlib import Path\n",
    "from pandas.api.types import CategoricalDtype"
   ]
  },
  {
   "cell_type": "code",
   "execution_count": 2,
   "metadata": {},
   "outputs": [],
   "source": [
    "# hair_type = CategoricalDtype(categories=np.loadtxt(\"./hair_color.txt\", dtype=str, delimiter=\",\"), ordered=True)\n",
    "# eyes_type = CategoricalDtype(categories=np.loadtxt(\"./eyes_color.txt\", dtype=str, delimiter=\",\"), ordered=True)"
   ]
  },
  {
   "cell_type": "code",
   "execution_count": 3,
   "metadata": {},
   "outputs": [],
   "source": [
    "def df_from_file(file_name, hair_type=None, eyes_type=None):\n",
    "    df = pd.read_csv(file_name, header=None, index_col=0, sep=',|\\s+')\n",
    "    df.columns = [\"hair\", \"r1\", \"eyes\", \"r2\"]\n",
    "    df = df.drop(columns=[\"r1\", \"r2\"])\n",
    "    \n",
    "    if hair_type and eyes_type:\n",
    "        df[\"hair\"] = df[\"hair\"].astype(hair_type)\n",
    "        df[\"eyes\"] = df[\"eyes\"].astype(eyes_type)\n",
    "    else:\n",
    "        df = df.astype(\"category\")\n",
    "        \n",
    "    df[\"hair_id\"] = df[\"hair\"].cat.codes\n",
    "    df[\"eyes_id\"] = df[\"eyes\"].cat.codes\n",
    "        \n",
    "    return df"
   ]
  },
  {
   "cell_type": "code",
   "execution_count": 4,
   "metadata": {},
   "outputs": [
    {
     "name": "stderr",
     "output_type": "stream",
     "text": [
      "/Users/yu/anaconda3/envs/preprocess/lib/python3.6/site-packages/ipykernel_launcher.py:2: ParserWarning: Falling back to the 'python' engine because the 'c' engine does not support regex separators (separators > 1 char and different from '\\s+' are interpreted as regex); you can avoid this warning by specifying engine='python'.\n",
      "  \n"
     ]
    }
   ],
   "source": [
    "# df = df_from_file(\"./tags.csv\", hair_type=hair_type, eyes_type=eyes_type)\n",
    "df = df_from_file(\"./tags.csv\")"
   ]
  },
  {
   "cell_type": "code",
   "execution_count": 5,
   "metadata": {},
   "outputs": [
    {
     "data": {
      "text/html": [
       "<div>\n",
       "<style scoped>\n",
       "    .dataframe tbody tr th:only-of-type {\n",
       "        vertical-align: middle;\n",
       "    }\n",
       "\n",
       "    .dataframe tbody tr th {\n",
       "        vertical-align: top;\n",
       "    }\n",
       "\n",
       "    .dataframe thead th {\n",
       "        text-align: right;\n",
       "    }\n",
       "</style>\n",
       "<table border=\"1\" class=\"dataframe\">\n",
       "  <thead>\n",
       "    <tr style=\"text-align: right;\">\n",
       "      <th></th>\n",
       "      <th>hair</th>\n",
       "      <th>eyes</th>\n",
       "      <th>hair_id</th>\n",
       "      <th>eyes_id</th>\n",
       "    </tr>\n",
       "    <tr>\n",
       "      <th>0</th>\n",
       "      <th></th>\n",
       "      <th></th>\n",
       "      <th></th>\n",
       "      <th></th>\n",
       "    </tr>\n",
       "  </thead>\n",
       "  <tbody>\n",
       "    <tr>\n",
       "      <th>0</th>\n",
       "      <td>aqua</td>\n",
       "      <td>aqua</td>\n",
       "      <td>0</td>\n",
       "      <td>0</td>\n",
       "    </tr>\n",
       "    <tr>\n",
       "      <th>215</th>\n",
       "      <td>aqua</td>\n",
       "      <td>black</td>\n",
       "      <td>0</td>\n",
       "      <td>1</td>\n",
       "    </tr>\n",
       "    <tr>\n",
       "      <th>434</th>\n",
       "      <td>aqua</td>\n",
       "      <td>blue</td>\n",
       "      <td>0</td>\n",
       "      <td>2</td>\n",
       "    </tr>\n",
       "    <tr>\n",
       "      <th>614</th>\n",
       "      <td>aqua</td>\n",
       "      <td>brown</td>\n",
       "      <td>0</td>\n",
       "      <td>3</td>\n",
       "    </tr>\n",
       "    <tr>\n",
       "      <th>751</th>\n",
       "      <td>aqua</td>\n",
       "      <td>green</td>\n",
       "      <td>0</td>\n",
       "      <td>4</td>\n",
       "    </tr>\n",
       "  </tbody>\n",
       "</table>\n",
       "</div>"
      ],
      "text/plain": [
       "     hair   eyes  hair_id  eyes_id\n",
       "0                                 \n",
       "0    aqua   aqua        0        0\n",
       "215  aqua  black        0        1\n",
       "434  aqua   blue        0        2\n",
       "614  aqua  brown        0        3\n",
       "751  aqua  green        0        4"
      ]
     },
     "execution_count": 5,
     "metadata": {},
     "output_type": "execute_result"
    }
   ],
   "source": [
    "df.head()"
   ]
  },
  {
   "cell_type": "code",
   "execution_count": 6,
   "metadata": {},
   "outputs": [],
   "source": [
    "def write_label_to_file(path, hair_code, eyes_code):\n",
    "    with path.open(\"w+\") as f:\n",
    "        print(*hair_code, sep=\",\", file=f)\n",
    "        print(*eyes_code, sep=\",\", file=f)"
   ]
  },
  {
   "cell_type": "code",
   "execution_count": 7,
   "metadata": {},
   "outputs": [],
   "source": [
    "def write_labels(path, dataframe):\n",
    "    hair_colors = [color for color in dataframe[\"hair\"].cat.categories]\n",
    "    eyes_colors = [color for color in dataframe[\"eyes\"].cat.categories]\n",
    "    with Path(path / \"hair_color.txt\").open(\"w+\") as f:\n",
    "        print(*hair_colors, sep=\",\", file=f)\n",
    "        \n",
    "    with Path(path / \"eyes_color.txt\").open(\"w+\") as f:\n",
    "        print(*eyes_colors, sep=\",\", file=f)\n",
    "        \n",
    "    label_dir = path / \"labels\"\n",
    "    label_dir.mkdir(parents=True, exist_ok=True)\n",
    "    \n",
    "    for index, row in dataframe.iterrows():\n",
    "        hair_code = [0] * len(hair_colors)\n",
    "        eyes_code = [0] * len(eyes_colors)\n",
    "        hair_code[row[\"hair_id\"]] = 1\n",
    "        eyes_code[row[\"eyes_id\"]] = 1\n",
    "        write_label_to_file(label_dir / \"{}.txt\".format(index), hair_code, eyes_code)"
   ]
  },
  {
   "cell_type": "code",
   "execution_count": 8,
   "metadata": {},
   "outputs": [],
   "source": [
    "write_labels(Path(\"./\"), df)"
   ]
  },
  {
   "cell_type": "code",
   "execution_count": null,
   "metadata": {},
   "outputs": [],
   "source": []
  }
 ],
 "metadata": {
  "kernelspec": {
   "display_name": "Python (preprocess)",
   "language": "python",
   "name": "preprocess"
  },
  "language_info": {
   "codemirror_mode": {
    "name": "ipython",
    "version": 3
   },
   "file_extension": ".py",
   "mimetype": "text/x-python",
   "name": "python",
   "nbconvert_exporter": "python",
   "pygments_lexer": "ipython3",
   "version": "3.6.6"
  }
 },
 "nbformat": 4,
 "nbformat_minor": 2
}
